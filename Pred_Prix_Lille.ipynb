{
 "cells": [
  {
   "cell_type": "code",
   "execution_count": 1,
   "id": "0633826c-c948-4b19-9482-1cb949c2079a",
   "metadata": {},
   "outputs": [
    {
     "name": "stderr",
     "output_type": "stream",
     "text": [
      "C:\\Users\\Packard Bell\\AppData\\Roaming\\Python\\Python37\\site-packages\\ipykernel_launcher.py:70: SettingWithCopyWarning: \n",
      "A value is trying to be set on a copy of a slice from a DataFrame\n",
      "\n",
      "See the caveats in the documentation: https://pandas.pydata.org/pandas-docs/stable/user_guide/indexing.html#returning-a-view-versus-a-copy\n",
      "C:\\Users\\Packard Bell\\AppData\\Roaming\\Python\\Python37\\site-packages\\ipykernel_launcher.py:71: SettingWithCopyWarning: \n",
      "A value is trying to be set on a copy of a slice from a DataFrame\n",
      "\n",
      "See the caveats in the documentation: https://pandas.pydata.org/pandas-docs/stable/user_guide/indexing.html#returning-a-view-versus-a-copy\n",
      "C:\\Users\\Packard Bell\\AppData\\Roaming\\Python\\Python37\\site-packages\\pandas\\core\\series.py:4515: SettingWithCopyWarning: \n",
      "A value is trying to be set on a copy of a slice from a DataFrame\n",
      "\n",
      "See the caveats in the documentation: https://pandas.pydata.org/pandas-docs/stable/user_guide/indexing.html#returning-a-view-versus-a-copy\n",
      "  method=method,\n"
     ]
    },
    {
     "name": "stdout",
     "output_type": "stream",
     "text": [
      "Estimation Bien Immobilier Region Lille (BoisBlanc)\n",
      " #####################Menu####################### \n",
      " \n",
      " simulation Sklearn ===>1 , Simulation Regre_Mult===>2 , comparaison Sklearn==>3 ,AffichageScoreModel==>4 , Quitter==>5\n",
      " \n"
     ]
    },
    {
     "name": "stdin",
     "output_type": "stream",
     "text": [
      "veuillez selectionner un choix 1\n",
      "veuillez saisire le departement du bien 59\n",
      "veuillez saisire la ville , 1 pour Lille et 0 ailleur  1\n",
      "veuillez saisire l'annee de construction du bien 1950\n",
      "veuillez saisire le nombre des pieces du bien 5\n",
      "veuillez saisire l'etage 4\n",
      "veuillez saisire la surface du bien 120\n"
     ]
    },
    {
     "name": "stdout",
     "output_type": "stream",
     "text": [
      "Estimation du Bien En utilisant Sklearn [203176.01389619] Euro\n",
      " \n",
      " simulation Sklearn ===>1 , Simulation Regre_Mult===>2 , comparaison Sklearn==>3 ,AffichageScoreModel==>4 , Quitter==>5\n",
      " \n"
     ]
    },
    {
     "name": "stdin",
     "output_type": "stream",
     "text": [
      "veuillez selectionner un choix 2\n",
      "veuillez saisire le departement du bien 59\n",
      "veuillez saisire la ville , 1 pour Lille et 0 ailleur  1\n",
      "veuillez saisire l'annee de construction du bien 1950\n",
      "veuillez saisire le nombre des pieces du bien 5\n",
      "veuillez saisire l'etage 4\n",
      "veuillez saisire la surface du bien 120\n"
     ]
    },
    {
     "name": "stdout",
     "output_type": "stream",
     "text": [
      "Estimation du Bien en Utilisant La Fonction Reg_mult 203176.01389618672 Euro\n",
      " \n",
      " simulation Sklearn ===>1 , Simulation Regre_Mult===>2 , comparaison Sklearn==>3 ,AffichageScoreModel==>4 , Quitter==>5\n",
      " \n"
     ]
    },
    {
     "name": "stdin",
     "output_type": "stream",
     "text": [
      "veuillez selectionner un choix 3\n"
     ]
    },
    {
     "name": "stdout",
     "output_type": "stream",
     "text": [
      "caracterstique bien:\n",
      "departement==> 59\n",
      "ville==> 0\n",
      "annee de construction==> 1991\n",
      "nombre de pieces==> 4\n",
      "etage==> 5\n",
      "surface==> 83\n",
      "ce bien est estimer pour une valeur de 295000 Euro\n",
      "avec le modele predit il est de valeur [224982.99636051] Euro avec une marge de  [70017.00363949] Euro\n",
      " \n",
      " simulation Sklearn ===>1 , Simulation Regre_Mult===>2 , comparaison Sklearn==>3 ,AffichageScoreModel==>4 , Quitter==>5\n",
      " \n"
     ]
    },
    {
     "name": "stdin",
     "output_type": "stream",
     "text": [
      "veuillez selectionner un choix 4\n"
     ]
    },
    {
     "name": "stdout",
     "output_type": "stream",
     "text": [
      "precision de Prediction du Model ==> 72.30663121166123 %\n",
      " \n",
      " simulation Sklearn ===>1 , Simulation Regre_Mult===>2 , comparaison Sklearn==>3 ,AffichageScoreModel==>4 , Quitter==>5\n",
      " \n"
     ]
    },
    {
     "name": "stdin",
     "output_type": "stream",
     "text": [
      "veuillez selectionner un choix 5\n"
     ]
    }
   ],
   "source": [
    "import numpy as np\n",
    "import matplotlib.pyplot as plt \n",
    "import pandas as pd\n",
    "import scipy as sp\n",
    "import sklearn.pipeline as pip\n",
    "from sklearn.linear_model import LinearRegression\n",
    "from sklearn.model_selection import cross_val_score\n",
    "from sklearn.preprocessing import PolynomialFeatures\n",
    "\n",
    "def Prediction_PLille(model,departement,ville,annee_cons,nbr_piece,etage,surface):\n",
    "    x=np.array([departement,ville,annee_cons,nbr_piece,etage,surface]).reshape(1,6)\n",
    "    return model.predict(x)\n",
    "    \n",
    "\n",
    "\n",
    "def comparaison_Plille(model,departement=59,ville=0,annee_cons=1991,nbr_piece=4,etage=5,surface=83):\n",
    "    y=295000\n",
    "    x=np.array([departement,ville,annee_cons,nbr_piece,etage,surface]).reshape(1,6)\n",
    "    print(\"caracterstique bien:\")\n",
    "    print(\"departement==>\",departement)\n",
    "    print(\"ville==>\",ville)\n",
    "    print(\"annee de construction==>\",annee_cons)\n",
    "    print(\"nombre de pieces==>\",nbr_piece)\n",
    "    print(\"etage==>\",etage)\n",
    "    print(\"surface==>\",surface)\n",
    "    #print(\"prix par metre carre==>\",prix_metre)\n",
    "    print(\"ce bien est estimer pour une valeur de\",y,\"Euro\")\n",
    "    print(\"avec le modele predit il est de valeur\",model.predict(x),\"Euro avec une marge de \",y-model.predict(x),\"Euro\")\n",
    "\n",
    "def regression_alge(base):\n",
    "    A=base[[\"departement\",\"ville\",\"annee_cons\",\"nbr_piece\",\"etage\",\"surface\"]] \n",
    "    P=base[\"prix\"]\n",
    "    B=(np.dot(A.T,A))\n",
    "    C=(np.dot(A.T,P))\n",
    "    w=np.linalg.solve(B,C)\n",
    "    #print(w)\n",
    "    p=np.mean(base[\"prix\"])\n",
    "    d=np.mean(base[\"departement\"])\n",
    "    v=np.mean(base[\"ville\"])\n",
    "    a=np.mean(base[\"annee_cons\"])\n",
    "    b=np.mean(base[\"nbr_piece\"])\n",
    "    e=np.mean(base[\"etage\"])\n",
    "    s=np.mean(base[\"surface\"])\n",
    "    #print(p,d,v,a,b,e,s)\n",
    "    #######################calcul W_0#######################\n",
    "    w_0=p-((w[0]*d)+(w[1]*v)+(w[2]*a)+(w[3]*b)+(w[4]*e)+(w[5]*s))\n",
    "    #print(w_0)\n",
    "    \n",
    "    \n",
    "    departement=int(input(\"veuillez saisire le departement du bien\"))\n",
    "    ville=int(input(\"veuillez saisire la ville , 1 pour Lille et 0 ailleur \"))\n",
    "    annee_cons=int(input(\"veuillez saisire l'annee de construction du bien\"))\n",
    "    nbr_piece=int(input(\"veuillez saisire le nombre des pieces du bien\"))\n",
    "    etage=int(input(\"veuillez saisire l'etage\"))\n",
    "    surface=int(input(\"veuillez saisire la surface du bien\"))\n",
    "    y=w_0+w[0]*departement+w[1]*ville+w[2]*annee_cons+w[3]*nbr_piece+w[4]*etage+w[5]*surface\n",
    "    return y  \n",
    "    \n",
    "\n",
    "def main():\n",
    "\n",
    "    base=pd.read_excel(\"VENTES.xlsx\")\n",
    "    VENTES_Test=pd.read_excel(\"VENTES_Test.xlsx\")\n",
    "\n",
    "############################creation du modele#################\n",
    "    model=LinearRegression()\n",
    "    Nv_base= base[[\"departement\" , \"ville\", \"annee_cons\" , \"nbr_piece\" , \"etage\" , \"surface\" , \"prix\" ]] ##extraction de nouvelles base\n",
    "    ventes_test=VENTES_Test[[\"departement\" , \"ville\", \"annee_cons\" , \"nbr_piece\" , \"etage\" , \"surface\" , \"prix\"]]\n",
    "    \n",
    "    ventes_test.dropna(axis=0,inplace=True)\n",
    "    Nv_base.dropna(axis=0 ,inplace=True) ###enlever case vide\n",
    "    #Nv_base\n",
    "    ventes_test[\"ville\"].replace([\"LILLE\",\"LAMBERSART\"],[0,1],inplace=True)\n",
    "    Nv_base[\"ville\"].replace([\"LILLE\",\"LAMBERSART\"],[0,1],inplace=True) ##remplacer ddes noms de villes pas des int\n",
    "    #Nv_base\n",
    "    y=Nv_base[\"prix\"] ##prix a predire\n",
    "    #print(y)\n",
    "    x=Nv_base.drop(\"prix\", axis=1)##donnees\n",
    "    #print(x)\n",
    "    \n",
    "    x_test=ventes_test[[\"departement\",\"ville\",\"annee_cons\",\"nbr_piece\",\"etage\",\"surface\"]]\n",
    "    y_test=ventes_test[\"prix\"]\n",
    "    #print(x_test)\n",
    "    #print(y_test)\n",
    "    \n",
    "#########################entrainement et Prediction du modele##################\n",
    "    model.fit(x,y)\n",
    "    model.score(x_test,y_test)\n",
    "    model.predict(x)\n",
    "    pred=model.predict(x) \n",
    "\n",
    "\n",
    "    print(\"Estimation Bien Immobilier Region Lille (BoisBlanc)\")\n",
    "    print(\" #####################Menu####################### \")\n",
    "    for i in range(30):\n",
    "        print(\" \")\n",
    "        print(\" simulation Sklearn ===>1 , Simulation Regre_Mult===>2 , comparaison Sklearn==>3 ,AffichageScoreModel==>4 , Quitter==>5\")\n",
    "        print(\" \")\n",
    "        choix=int(input(\"veuillez selectionner un choix\"))\n",
    "        \n",
    "        if(choix==1):\n",
    "            departement=int(input(\"veuillez saisire le departement du bien\"))\n",
    "            ville=int(input(\"veuillez saisire la ville , 1 pour Lille et 0 ailleur \"))\n",
    "            annee_cons=int(input(\"veuillez saisire l'annee de construction du bien\"))\n",
    "            nbr_piece=int(input(\"veuillez saisire le nombre des pieces du bien\"))\n",
    "            etage=int(input(\"veuillez saisire l'etage\"))\n",
    "            surface=int(input(\"veuillez saisire la surface du bien\"))\n",
    "            print(\"Estimation du Bien En utilisant Sklearn\",Prediction_PLille(model,departement,ville,annee_cons,nbr_piece,etage,surface),\"Euro\")\n",
    "        \n",
    "        if(choix==2):\n",
    "            print(\"Estimation du Bien en Utilisant La Fonction Reg_mult\",regression_alge(Nv_base),\"Euro\") \n",
    "            \n",
    "        if(choix==3):\n",
    "            comparaison_Plille(model)\n",
    "        if(choix==4):\n",
    "            print(\"precision de Prediction du Model ==>\",model.score(x_test,y_test)*100,\"%\")\n",
    "        if(choix==5):\n",
    "            break\n",
    "\n",
    "main()"
   ]
  },
  {
   "cell_type": "code",
   "execution_count": null,
   "id": "95f66d2e-b858-42c6-b041-9e5dddaaca3b",
   "metadata": {},
   "outputs": [],
   "source": []
  }
 ],
 "metadata": {
  "kernelspec": {
   "display_name": "Python 3",
   "language": "python",
   "name": "python3"
  },
  "language_info": {
   "codemirror_mode": {
    "name": "ipython",
    "version": 3
   },
   "file_extension": ".py",
   "mimetype": "text/x-python",
   "name": "python",
   "nbconvert_exporter": "python",
   "pygments_lexer": "ipython3",
   "version": "3.7.3"
  }
 },
 "nbformat": 4,
 "nbformat_minor": 5
}
